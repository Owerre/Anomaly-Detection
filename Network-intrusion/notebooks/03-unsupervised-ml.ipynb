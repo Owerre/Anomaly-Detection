{
 "cells": [
  {
   "cell_type": "markdown",
   "metadata": {},
   "source": [
    "# Unsupervised Anomaly Detection"
   ]
  },
  {
   "cell_type": "code",
   "execution_count": 1,
   "metadata": {},
   "outputs": [],
   "source": [
    "%matplotlib inline\n",
    "\n",
    "# Filter warnings\n",
    "import warnings\n",
    "warnings.filterwarnings(\"ignore\")\n",
    "\n",
    "# Data manipulation\n",
    "import pandas as pd\n",
    "import numpy as np\n",
    "\n",
    "# Data visualization\n",
    "import matplotlib.pyplot as plt\n",
    "import seaborn as sns\n",
    "\n",
    "# Set font scale and style\n",
    "plt.rcParams.update({'font.size': 15})"
   ]
  },
  {
   "cell_type": "code",
   "execution_count": 2,
   "metadata": {},
   "outputs": [],
   "source": [
    "# Import custom class\n",
    "%run -i '../src/helper/transfxns.py'\n",
    "%run -i '../src/helper/unsup_ml.py'"
   ]
  },
  {
   "cell_type": "markdown",
   "metadata": {},
   "source": [
    "# Load data"
   ]
  },
  {
   "cell_type": "code",
   "execution_count": 3,
   "metadata": {},
   "outputs": [
    {
     "name": "stdout",
     "output_type": "stream",
     "text": [
      "Data size: (620098, 30)\n"
     ]
    },
    {
     "data": {
      "text/html": [
       "<div>\n",
       "<style scoped>\n",
       "    .dataframe tbody tr th:only-of-type {\n",
       "        vertical-align: middle;\n",
       "    }\n",
       "\n",
       "    .dataframe tbody tr th {\n",
       "        vertical-align: top;\n",
       "    }\n",
       "\n",
       "    .dataframe thead th {\n",
       "        text-align: right;\n",
       "    }\n",
       "</style>\n",
       "<table border=\"1\" class=\"dataframe\">\n",
       "  <thead>\n",
       "    <tr style=\"text-align: right;\">\n",
       "      <th></th>\n",
       "      <th>v_0</th>\n",
       "      <th>v_1</th>\n",
       "      <th>v_2</th>\n",
       "      <th>v_3</th>\n",
       "      <th>v_4</th>\n",
       "      <th>v_5</th>\n",
       "      <th>v_6</th>\n",
       "      <th>v_7</th>\n",
       "      <th>v_8</th>\n",
       "      <th>v_9</th>\n",
       "      <th>...</th>\n",
       "      <th>v_20</th>\n",
       "      <th>v_21</th>\n",
       "      <th>v_22</th>\n",
       "      <th>v_23</th>\n",
       "      <th>v_24</th>\n",
       "      <th>v_25</th>\n",
       "      <th>v_26</th>\n",
       "      <th>v_27</th>\n",
       "      <th>v_28</th>\n",
       "      <th>v_29</th>\n",
       "    </tr>\n",
       "  </thead>\n",
       "  <tbody>\n",
       "    <tr>\n",
       "      <th>0</th>\n",
       "      <td>0.0</td>\n",
       "      <td>215.0</td>\n",
       "      <td>45076.0</td>\n",
       "      <td>0.0</td>\n",
       "      <td>1.0</td>\n",
       "      <td>0.0</td>\n",
       "      <td>0.0</td>\n",
       "      <td>0.0</td>\n",
       "      <td>0.0</td>\n",
       "      <td>0.0</td>\n",
       "      <td>...</td>\n",
       "      <td>0.0</td>\n",
       "      <td>0.0</td>\n",
       "      <td>0.0</td>\n",
       "      <td>0.00</td>\n",
       "      <td>0.0</td>\n",
       "      <td>0.0</td>\n",
       "      <td>0.0</td>\n",
       "      <td>0.0</td>\n",
       "      <td>0.0</td>\n",
       "      <td>n</td>\n",
       "    </tr>\n",
       "    <tr>\n",
       "      <th>1</th>\n",
       "      <td>0.0</td>\n",
       "      <td>162.0</td>\n",
       "      <td>4528.0</td>\n",
       "      <td>0.0</td>\n",
       "      <td>1.0</td>\n",
       "      <td>0.0</td>\n",
       "      <td>0.0</td>\n",
       "      <td>0.0</td>\n",
       "      <td>0.0</td>\n",
       "      <td>0.0</td>\n",
       "      <td>...</td>\n",
       "      <td>1.0</td>\n",
       "      <td>1.0</td>\n",
       "      <td>0.0</td>\n",
       "      <td>1.00</td>\n",
       "      <td>0.0</td>\n",
       "      <td>0.0</td>\n",
       "      <td>0.0</td>\n",
       "      <td>0.0</td>\n",
       "      <td>0.0</td>\n",
       "      <td>n</td>\n",
       "    </tr>\n",
       "    <tr>\n",
       "      <th>2</th>\n",
       "      <td>0.0</td>\n",
       "      <td>236.0</td>\n",
       "      <td>1228.0</td>\n",
       "      <td>0.0</td>\n",
       "      <td>1.0</td>\n",
       "      <td>0.0</td>\n",
       "      <td>0.0</td>\n",
       "      <td>0.0</td>\n",
       "      <td>0.0</td>\n",
       "      <td>0.0</td>\n",
       "      <td>...</td>\n",
       "      <td>2.0</td>\n",
       "      <td>1.0</td>\n",
       "      <td>0.0</td>\n",
       "      <td>0.50</td>\n",
       "      <td>0.0</td>\n",
       "      <td>0.0</td>\n",
       "      <td>0.0</td>\n",
       "      <td>0.0</td>\n",
       "      <td>0.0</td>\n",
       "      <td>n</td>\n",
       "    </tr>\n",
       "    <tr>\n",
       "      <th>3</th>\n",
       "      <td>0.0</td>\n",
       "      <td>233.0</td>\n",
       "      <td>2032.0</td>\n",
       "      <td>0.0</td>\n",
       "      <td>1.0</td>\n",
       "      <td>0.0</td>\n",
       "      <td>0.0</td>\n",
       "      <td>0.0</td>\n",
       "      <td>0.0</td>\n",
       "      <td>0.0</td>\n",
       "      <td>...</td>\n",
       "      <td>3.0</td>\n",
       "      <td>1.0</td>\n",
       "      <td>0.0</td>\n",
       "      <td>0.33</td>\n",
       "      <td>0.0</td>\n",
       "      <td>0.0</td>\n",
       "      <td>0.0</td>\n",
       "      <td>0.0</td>\n",
       "      <td>0.0</td>\n",
       "      <td>n</td>\n",
       "    </tr>\n",
       "    <tr>\n",
       "      <th>4</th>\n",
       "      <td>0.0</td>\n",
       "      <td>239.0</td>\n",
       "      <td>486.0</td>\n",
       "      <td>0.0</td>\n",
       "      <td>1.0</td>\n",
       "      <td>0.0</td>\n",
       "      <td>0.0</td>\n",
       "      <td>0.0</td>\n",
       "      <td>0.0</td>\n",
       "      <td>0.0</td>\n",
       "      <td>...</td>\n",
       "      <td>4.0</td>\n",
       "      <td>1.0</td>\n",
       "      <td>0.0</td>\n",
       "      <td>0.25</td>\n",
       "      <td>0.0</td>\n",
       "      <td>0.0</td>\n",
       "      <td>0.0</td>\n",
       "      <td>0.0</td>\n",
       "      <td>0.0</td>\n",
       "      <td>n</td>\n",
       "    </tr>\n",
       "  </tbody>\n",
       "</table>\n",
       "<p>5 rows × 30 columns</p>\n",
       "</div>"
      ],
      "text/plain": [
       "   v_0    v_1      v_2  v_3  v_4  v_5  v_6  v_7  v_8  v_9  ...  v_20  v_21  \\\n",
       "0  0.0  215.0  45076.0  0.0  1.0  0.0  0.0  0.0  0.0  0.0  ...   0.0   0.0   \n",
       "1  0.0  162.0   4528.0  0.0  1.0  0.0  0.0  0.0  0.0  0.0  ...   1.0   1.0   \n",
       "2  0.0  236.0   1228.0  0.0  1.0  0.0  0.0  0.0  0.0  0.0  ...   2.0   1.0   \n",
       "3  0.0  233.0   2032.0  0.0  1.0  0.0  0.0  0.0  0.0  0.0  ...   3.0   1.0   \n",
       "4  0.0  239.0    486.0  0.0  1.0  0.0  0.0  0.0  0.0  0.0  ...   4.0   1.0   \n",
       "\n",
       "   v_22  v_23  v_24  v_25  v_26  v_27  v_28  v_29  \n",
       "0   0.0  0.00   0.0   0.0   0.0   0.0   0.0     n  \n",
       "1   0.0  1.00   0.0   0.0   0.0   0.0   0.0     n  \n",
       "2   0.0  0.50   0.0   0.0   0.0   0.0   0.0     n  \n",
       "3   0.0  0.33   0.0   0.0   0.0   0.0   0.0     n  \n",
       "4   0.0  0.25   0.0   0.0   0.0   0.0   0.0     n  \n",
       "\n",
       "[5 rows x 30 columns]"
      ]
     },
     "execution_count": 3,
     "metadata": {},
     "output_type": "execute_result"
    }
   ],
   "source": [
    "df = pd.read_csv('../data/kdd99-unsupervised-ad.csv', header = None)\n",
    "print(\"Data size:\", df.shape) # print data size\n",
    "df.columns = ['v_{}'.format(i) for i in range(30)] # column names\n",
    "df.head()"
   ]
  },
  {
   "cell_type": "markdown",
   "metadata": {},
   "source": [
    "# Categorical variables encoded as integers"
   ]
  },
  {
   "cell_type": "code",
   "execution_count": 4,
   "metadata": {},
   "outputs": [],
   "source": [
    "# Convert to string\n",
    "cols = ['v_6', 'v_7', 'v_8', 'v_9']\n",
    "for i, val in enumerate(cols):\n",
    "    df[val] = df[val].astype('O')"
   ]
  },
  {
   "cell_type": "markdown",
   "metadata": {},
   "source": [
    "# Drop the class label\n",
    "\n",
    "We will assume that the class label was not provided, which is the case in unsupervised anomaly detection problems. Therefore, the class label will be dropped. However, since the class label is given we will use it to evaluate the accuracy of the unsupervised models, but in reality this is impossible"
   ]
  },
  {
   "cell_type": "code",
   "execution_count": 5,
   "metadata": {},
   "outputs": [],
   "source": [
    " # Map to binary and save for later use\n",
    "y_true = (df.v_29.map({'n':0, 'o':1})).values"
   ]
  },
  {
   "cell_type": "code",
   "execution_count": 6,
   "metadata": {},
   "outputs": [],
   "source": [
    "# Drop class label\n",
    "df.drop('v_29', axis =1, inplace = True)"
   ]
  },
  {
   "cell_type": "markdown",
   "metadata": {},
   "source": [
    "# Transformation pipeline"
   ]
  },
  {
   "cell_type": "code",
   "execution_count": 7,
   "metadata": {},
   "outputs": [],
   "source": [
    "# Instantiate the  classes\n",
    "transfxn = TransformationPipeline()"
   ]
  },
  {
   "cell_type": "code",
   "execution_count": 8,
   "metadata": {},
   "outputs": [],
   "source": [
    "# Transform and scale data\n",
    "X_scaled, _, _ = transfxn.preprocessing(df, df)"
   ]
  },
  {
   "cell_type": "code",
   "execution_count": 9,
   "metadata": {},
   "outputs": [
    {
     "name": "stdout",
     "output_type": "stream",
     "text": [
      "Data size after pre-processing: (620098, 33)\n"
     ]
    }
   ],
   "source": [
    "print('Data size after pre-processing:', X_scaled.shape)"
   ]
  },
  {
   "cell_type": "markdown",
   "metadata": {},
   "source": [
    "# Unsupervised Models"
   ]
  },
  {
   "cell_type": "code",
   "execution_count": 10,
   "metadata": {},
   "outputs": [],
   "source": [
    "# Instantiate the class\n",
    "model = UnsupervisedModels()"
   ]
  },
  {
   "cell_type": "markdown",
   "metadata": {},
   "source": [
    "## 1. Isolation Forest"
   ]
  },
  {
   "cell_type": "code",
   "execution_count": 11,
   "metadata": {},
   "outputs": [
    {
     "data": {
      "image/png": "[encoded data removed]",
      "text/plain": [
       "<Figure size 576x432 with 1 Axes>"
      ]
     },
     "metadata": {
      "needs_background": "light"
     },
     "output_type": "display_data"
    }
   ],
   "source": [
    "# Train model\n",
    "if_scores, if_y_pred = model.iforest(X_scaled, n_estimators = 500, random_state= 42)\n",
    "\n",
    "# Add anomaly score to the data\n",
    "if_df = df.copy()\n",
    "if_df['anomaly_score'] = if_scores\n",
    "\n",
    "# Plot anomaly score distribution\n",
    "model.plot_dist(if_df.anomaly_score, color = 'b', title = 'Distribution of anomaly score for Isolation Forest')"
   ]
  },
  {
   "cell_type": "code",
   "execution_count": 12,
   "metadata": {},
   "outputs": [
    {
     "name": "stdout",
     "output_type": "stream",
     "text": [
      "---------------------------------------------------------------------------\n",
      "Test accuracy:  0.907628\n",
      "AUROC: 0.819933\n",
      "AUPRC: 0.010211\n",
      "Predicted classes: [0 1]\n",
      "Confusion matrix:\n",
      " [[562048  56998]\n",
      " [   282    770]]\n",
      "Classification report:\n",
      "               precision    recall  f1-score   support\n",
      "\n",
      "           0       1.00      0.91      0.95    619046\n",
      "           1       0.01      0.73      0.03      1052\n",
      "\n",
      "    accuracy                           0.91    620098\n",
      "   macro avg       0.51      0.82      0.49    620098\n",
      "weighted avg       1.00      0.91      0.95    620098\n",
      "\n",
      "---------------------------------------------------------------------------\n"
     ]
    }
   ],
   "source": [
    "# Evaluation metric\n",
    "model.eval_metric(y_true, if_y_pred)"
   ]
  },
  {
   "cell_type": "markdown",
   "metadata": {},
   "source": [
    "## 2. Cluster-Based Local Outlier Factor"
   ]
  },
  {
   "cell_type": "code",
   "execution_count": 13,
   "metadata": {},
   "outputs": [
    {
     "data": {
      "image/png": "[encoded data removed]",
      "text/plain": [
       "<Figure size 576x432 with 1 Axes>"
      ]
     },
     "metadata": {
      "needs_background": "light"
     },
     "output_type": "display_data"
    }
   ],
   "source": [
    "# Train model\n",
    "cblof_scores, cblof_y_pred = model.cblof(X_scaled, contamination = 0.1, random_state = 42)\n",
    "\n",
    "# Add anomaly score to the data\n",
    "cblof_df = df.copy()\n",
    "cblof_df['anomaly_score'] = cblof_scores\n",
    "\n",
    "# Plot anomaly score distribution\n",
    "model.plot_dist(cblof_df.anomaly_score, color = 'b', title = 'Distribution of anomaly score for CBLOF')"
   ]
  },
  {
   "cell_type": "code",
   "execution_count": 14,
   "metadata": {},
   "outputs": [
    {
     "name": "stdout",
     "output_type": "stream",
     "text": [
      "---------------------------------------------------------------------------\n",
      "Test accuracy:  0.901696\n",
      "AUROC: 0.950765\n",
      "AUPRC: 0.016965\n",
      "Predicted classes: [0 1]\n",
      "Confusion matrix:\n",
      " [[558088  60958]\n",
      " [     0   1052]]\n",
      "Classification report:\n",
      "               precision    recall  f1-score   support\n",
      "\n",
      "           0       1.00      0.90      0.95    619046\n",
      "           1       0.02      1.00      0.03      1052\n",
      "\n",
      "    accuracy                           0.90    620098\n",
      "   macro avg       0.51      0.95      0.49    620098\n",
      "weighted avg       1.00      0.90      0.95    620098\n",
      "\n",
      "---------------------------------------------------------------------------\n"
     ]
    }
   ],
   "source": [
    "# Evaluation metric\n",
    "model.eval_metric(y_true, cblof_y_pred)"
   ]
  },
  {
   "cell_type": "markdown",
   "metadata": {},
   "source": [
    "## 3. PCA"
   ]
  },
  {
   "cell_type": "code",
   "execution_count": 15,
   "metadata": {},
   "outputs": [
    {
     "data": {
      "image/png": "[encoded data removed]",
      "text/plain": [
       "<Figure size 576x432 with 1 Axes>"
      ]
     },
     "metadata": {
      "needs_background": "light"
     },
     "output_type": "display_data"
    }
   ],
   "source": [
    "# Train model\n",
    "pca_scores, pca_y_pred = model.pca(X_scaled, n_components = None, contamination = 0.1)\n",
    "\n",
    "# Add anomaly score to the data\n",
    "pca_df = df.copy()\n",
    "pca_df['anomaly_score'] = pca_scores\n",
    "\n",
    "# Plot anomaly score distribution\n",
    "model.plot_dist(pca_df.anomaly_score, color = 'b', title = 'Distribution of anomaly score for PCA')"
   ]
  },
  {
   "cell_type": "code",
   "execution_count": 16,
   "metadata": {},
   "outputs": [
    {
     "name": "stdout",
     "output_type": "stream",
     "text": [
      "---------------------------------------------------------------------------\n",
      "Test accuracy:  0.901696\n",
      "AUROC: 0.950765\n",
      "AUPRC: 0.016965\n",
      "Predicted classes: [0 1]\n",
      "Confusion matrix:\n",
      " [[558088  60958]\n",
      " [     0   1052]]\n",
      "Classification report:\n",
      "               precision    recall  f1-score   support\n",
      "\n",
      "           0       1.00      0.90      0.95    619046\n",
      "           1       0.02      1.00      0.03      1052\n",
      "\n",
      "    accuracy                           0.90    620098\n",
      "   macro avg       0.51      0.95      0.49    620098\n",
      "weighted avg       1.00      0.90      0.95    620098\n",
      "\n",
      "---------------------------------------------------------------------------\n"
     ]
    }
   ],
   "source": [
    "# Evaluation metric\n",
    "model.eval_metric(y_true, pca_y_pred)"
   ]
  },
  {
   "cell_type": "markdown",
   "metadata": {},
   "source": [
    "## 4. Elliptic Envelope"
   ]
  },
  {
   "cell_type": "code",
   "execution_count": 17,
   "metadata": {},
   "outputs": [
    {
     "data": {
      "image/png": "[encoded data removed]",
      "text/plain": [
       "<Figure size 576x432 with 1 Axes>"
      ]
     },
     "metadata": {
      "needs_background": "light"
     },
     "output_type": "display_data"
    }
   ],
   "source": [
    "# Train model\n",
    "ellip_scores, ellip_y_pred = model.cov(X_scaled, contamination = 0.1, random_state = 42)\n",
    "\n",
    "# Add anomaly score to the data\n",
    "ellip_df = df.copy()\n",
    "ellip_df['anomaly_score'] = ellip_scores\n",
    "\n",
    "# Plot anomaly score distribution\n",
    "model.plot_dist(ellip_df.anomaly_score, color = 'b', title = 'Distribution of anomaly score for Elliptic Envelope')"
   ]
  },
  {
   "cell_type": "code",
   "execution_count": 18,
   "metadata": {},
   "outputs": [
    {
     "name": "stdout",
     "output_type": "stream",
     "text": [
      "---------------------------------------------------------------------------\n",
      "Test accuracy:  0.899522\n",
      "AUROC: 0.629878\n",
      "AUPRC: 0.003277\n",
      "Predicted classes: [0 1]\n",
      "Confusion matrix:\n",
      " [[557414  61632]\n",
      " [   674    378]]\n",
      "Classification report:\n",
      "               precision    recall  f1-score   support\n",
      "\n",
      "           0       1.00      0.90      0.95    619046\n",
      "           1       0.01      0.36      0.01      1052\n",
      "\n",
      "    accuracy                           0.90    620098\n",
      "   macro avg       0.50      0.63      0.48    620098\n",
      "weighted avg       1.00      0.90      0.95    620098\n",
      "\n",
      "---------------------------------------------------------------------------\n"
     ]
    }
   ],
   "source": [
    "# Evaluation metric\n",
    "model.eval_metric(y_true, ellip_y_pred)"
   ]
  },
  {
   "cell_type": "code",
   "execution_count": null,
   "metadata": {},
   "outputs": [],
   "source": []
  }
 ],
 "metadata": {
  "kernelspec": {
   "display_name": "Python 3",
   "language": "python",
   "name": "python3"
  },
  "language_info": {
   "codemirror_mode": {
    "name": "ipython",
    "version": 3
   },
   "file_extension": ".py",
   "mimetype": "text/x-python",
   "name": "python",
   "nbconvert_exporter": "python",
   "pygments_lexer": "ipython3",
   "version": "3.7.7"
  }
 },
 "nbformat": 4,
 "nbformat_minor": 2
}
